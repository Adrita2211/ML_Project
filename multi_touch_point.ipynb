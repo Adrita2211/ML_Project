{
  "nbformat": 4,
  "nbformat_minor": 0,
  "metadata": {
    "colab": {
      "provenance": [],
      "authorship_tag": "ABX9TyOjQymzeZtyx1mvpnJs5YcH",
      "include_colab_link": true
    },
    "kernelspec": {
      "name": "python3",
      "display_name": "Python 3"
    },
    "language_info": {
      "name": "python"
    }
  },
  "cells": [
    {
      "cell_type": "markdown",
      "metadata": {
        "id": "view-in-github",
        "colab_type": "text"
      },
      "source": [
        "<a href=\"https://colab.research.google.com/github/Adrita2211/ML_Project/blob/main/multi_touch_point.ipynb\" target=\"_parent\"><img src=\"https://colab.research.google.com/assets/colab-badge.svg\" alt=\"Open In Colab\"/></a>"
      ]
    },
    {
      "cell_type": "code",
      "execution_count": 20,
      "metadata": {
        "id": "5POQXUvyyrB6"
      },
      "outputs": [],
      "source": [
        "import pandas as pd\n",
        "import numpy as np\n",
        "from collections import defaultdict\n",
        "import matplotlib.pyplot as plt\n",
        "import seaborn as sns\n",
        "import ast"
      ]
    },
    {
      "cell_type": "code",
      "source": [
        "clickStreamData = pd.read_excel(\"/content/sample_data/click_stream_new.xlsx\", engine='openpyxl')"
      ],
      "metadata": {
        "id": "ATVzjBOb1c4G"
      },
      "execution_count": 14,
      "outputs": []
    },
    {
      "cell_type": "code",
      "source": [
        "df = pd.DataFrame(clickStreamData)"
      ],
      "metadata": {
        "id": "BTcc1nh47Ym2"
      },
      "execution_count": 15,
      "outputs": []
    },
    {
      "cell_type": "code",
      "source": [
        "df.head()"
      ],
      "metadata": {
        "colab": {
          "base_uri": "https://localhost:8080/",
          "height": 379
        },
        "id": "dnJQk_J47bcA",
        "outputId": "97778f63-83f0-428c-9c1c-e7014959e05c"
      },
      "execution_count": 16,
      "outputs": [
        {
          "output_type": "execute_result",
          "data": {
            "text/plain": [
              "                             session_id   event_name  \\\n",
              "0  fb0abf9e-fd1a-44dd-b5c0-2834d5a4b81c     HOMEPAGE   \n",
              "1  fb0abf9e-fd1a-44dd-b5c0-2834d5a4b81c       SCROLL   \n",
              "2  7d440441-e67a-4d36-b324-80ffd636d166     HOMEPAGE   \n",
              "3  7d440441-e67a-4d36-b324-80ffd636d166  ADD_TO_CART   \n",
              "4  7d440441-e67a-4d36-b324-80ffd636d166      BOOKING   \n",
              "\n",
              "                    event_time                              event_id  \\\n",
              "0  2019-09-06T15:54:32.821085Z  9c4388c4-c95b-4678-b5ca-e9cbc0734109   \n",
              "1  2019-09-06T16:03:57.821085Z  4690e1f5-3f99-42d3-84a5-22c4c4d8500a   \n",
              "2  2019-09-01T12:05:10.322763Z  88aeaeb5-ec98-4859-852c-8abb483faf31   \n",
              "3  2019-09-01T12:06:33.322763Z  934e306e-ecc6-472f-9ccb-12c8536910a2   \n",
              "4  2019-09-01T12:15:29.425431Z  9f4767a1-40fa-4c9c-9524-dfad18634d56   \n",
              "\n",
              "  traffic_source                                     event_metadata  \n",
              "0         MOBILE                                                NaN  \n",
              "1         MOBILE                                                NaN  \n",
              "2         MOBILE                                                NaN  \n",
              "3         MOBILE  {'product_id': 15315, 'quantity': 4, 'item_pri...  \n",
              "4         MOBILE                      {'payment_status': 'Success'}  "
            ],
            "text/html": [
              "\n",
              "  <div id=\"df-ab00d1b6-9d76-4d7b-b059-27c54b7e2287\" class=\"colab-df-container\">\n",
              "    <div>\n",
              "<style scoped>\n",
              "    .dataframe tbody tr th:only-of-type {\n",
              "        vertical-align: middle;\n",
              "    }\n",
              "\n",
              "    .dataframe tbody tr th {\n",
              "        vertical-align: top;\n",
              "    }\n",
              "\n",
              "    .dataframe thead th {\n",
              "        text-align: right;\n",
              "    }\n",
              "</style>\n",
              "<table border=\"1\" class=\"dataframe\">\n",
              "  <thead>\n",
              "    <tr style=\"text-align: right;\">\n",
              "      <th></th>\n",
              "      <th>session_id</th>\n",
              "      <th>event_name</th>\n",
              "      <th>event_time</th>\n",
              "      <th>event_id</th>\n",
              "      <th>traffic_source</th>\n",
              "      <th>event_metadata</th>\n",
              "    </tr>\n",
              "  </thead>\n",
              "  <tbody>\n",
              "    <tr>\n",
              "      <th>0</th>\n",
              "      <td>fb0abf9e-fd1a-44dd-b5c0-2834d5a4b81c</td>\n",
              "      <td>HOMEPAGE</td>\n",
              "      <td>2019-09-06T15:54:32.821085Z</td>\n",
              "      <td>9c4388c4-c95b-4678-b5ca-e9cbc0734109</td>\n",
              "      <td>MOBILE</td>\n",
              "      <td>NaN</td>\n",
              "    </tr>\n",
              "    <tr>\n",
              "      <th>1</th>\n",
              "      <td>fb0abf9e-fd1a-44dd-b5c0-2834d5a4b81c</td>\n",
              "      <td>SCROLL</td>\n",
              "      <td>2019-09-06T16:03:57.821085Z</td>\n",
              "      <td>4690e1f5-3f99-42d3-84a5-22c4c4d8500a</td>\n",
              "      <td>MOBILE</td>\n",
              "      <td>NaN</td>\n",
              "    </tr>\n",
              "    <tr>\n",
              "      <th>2</th>\n",
              "      <td>7d440441-e67a-4d36-b324-80ffd636d166</td>\n",
              "      <td>HOMEPAGE</td>\n",
              "      <td>2019-09-01T12:05:10.322763Z</td>\n",
              "      <td>88aeaeb5-ec98-4859-852c-8abb483faf31</td>\n",
              "      <td>MOBILE</td>\n",
              "      <td>NaN</td>\n",
              "    </tr>\n",
              "    <tr>\n",
              "      <th>3</th>\n",
              "      <td>7d440441-e67a-4d36-b324-80ffd636d166</td>\n",
              "      <td>ADD_TO_CART</td>\n",
              "      <td>2019-09-01T12:06:33.322763Z</td>\n",
              "      <td>934e306e-ecc6-472f-9ccb-12c8536910a2</td>\n",
              "      <td>MOBILE</td>\n",
              "      <td>{'product_id': 15315, 'quantity': 4, 'item_pri...</td>\n",
              "    </tr>\n",
              "    <tr>\n",
              "      <th>4</th>\n",
              "      <td>7d440441-e67a-4d36-b324-80ffd636d166</td>\n",
              "      <td>BOOKING</td>\n",
              "      <td>2019-09-01T12:15:29.425431Z</td>\n",
              "      <td>9f4767a1-40fa-4c9c-9524-dfad18634d56</td>\n",
              "      <td>MOBILE</td>\n",
              "      <td>{'payment_status': 'Success'}</td>\n",
              "    </tr>\n",
              "  </tbody>\n",
              "</table>\n",
              "</div>\n",
              "    <div class=\"colab-df-buttons\">\n",
              "\n",
              "  <div class=\"colab-df-container\">\n",
              "    <button class=\"colab-df-convert\" onclick=\"convertToInteractive('df-ab00d1b6-9d76-4d7b-b059-27c54b7e2287')\"\n",
              "            title=\"Convert this dataframe to an interactive table.\"\n",
              "            style=\"display:none;\">\n",
              "\n",
              "  <svg xmlns=\"http://www.w3.org/2000/svg\" height=\"24px\" viewBox=\"0 -960 960 960\">\n",
              "    <path d=\"M120-120v-720h720v720H120Zm60-500h600v-160H180v160Zm220 220h160v-160H400v160Zm0 220h160v-160H400v160ZM180-400h160v-160H180v160Zm440 0h160v-160H620v160ZM180-180h160v-160H180v160Zm440 0h160v-160H620v160Z\"/>\n",
              "  </svg>\n",
              "    </button>\n",
              "\n",
              "  <style>\n",
              "    .colab-df-container {\n",
              "      display:flex;\n",
              "      gap: 12px;\n",
              "    }\n",
              "\n",
              "    .colab-df-convert {\n",
              "      background-color: #E8F0FE;\n",
              "      border: none;\n",
              "      border-radius: 50%;\n",
              "      cursor: pointer;\n",
              "      display: none;\n",
              "      fill: #1967D2;\n",
              "      height: 32px;\n",
              "      padding: 0 0 0 0;\n",
              "      width: 32px;\n",
              "    }\n",
              "\n",
              "    .colab-df-convert:hover {\n",
              "      background-color: #E2EBFA;\n",
              "      box-shadow: 0px 1px 2px rgba(60, 64, 67, 0.3), 0px 1px 3px 1px rgba(60, 64, 67, 0.15);\n",
              "      fill: #174EA6;\n",
              "    }\n",
              "\n",
              "    .colab-df-buttons div {\n",
              "      margin-bottom: 4px;\n",
              "    }\n",
              "\n",
              "    [theme=dark] .colab-df-convert {\n",
              "      background-color: #3B4455;\n",
              "      fill: #D2E3FC;\n",
              "    }\n",
              "\n",
              "    [theme=dark] .colab-df-convert:hover {\n",
              "      background-color: #434B5C;\n",
              "      box-shadow: 0px 1px 3px 1px rgba(0, 0, 0, 0.15);\n",
              "      filter: drop-shadow(0px 1px 2px rgba(0, 0, 0, 0.3));\n",
              "      fill: #FFFFFF;\n",
              "    }\n",
              "  </style>\n",
              "\n",
              "    <script>\n",
              "      const buttonEl =\n",
              "        document.querySelector('#df-ab00d1b6-9d76-4d7b-b059-27c54b7e2287 button.colab-df-convert');\n",
              "      buttonEl.style.display =\n",
              "        google.colab.kernel.accessAllowed ? 'block' : 'none';\n",
              "\n",
              "      async function convertToInteractive(key) {\n",
              "        const element = document.querySelector('#df-ab00d1b6-9d76-4d7b-b059-27c54b7e2287');\n",
              "        const dataTable =\n",
              "          await google.colab.kernel.invokeFunction('convertToInteractive',\n",
              "                                                    [key], {});\n",
              "        if (!dataTable) return;\n",
              "\n",
              "        const docLinkHtml = 'Like what you see? Visit the ' +\n",
              "          '<a target=\"_blank\" href=https://colab.research.google.com/notebooks/data_table.ipynb>data table notebook</a>'\n",
              "          + ' to learn more about interactive tables.';\n",
              "        element.innerHTML = '';\n",
              "        dataTable['output_type'] = 'display_data';\n",
              "        await google.colab.output.renderOutput(dataTable, element);\n",
              "        const docLink = document.createElement('div');\n",
              "        docLink.innerHTML = docLinkHtml;\n",
              "        element.appendChild(docLink);\n",
              "      }\n",
              "    </script>\n",
              "  </div>\n",
              "\n",
              "\n",
              "<div id=\"df-f7cdc479-e5c4-4655-aa0b-136c032d867f\">\n",
              "  <button class=\"colab-df-quickchart\" onclick=\"quickchart('df-f7cdc479-e5c4-4655-aa0b-136c032d867f')\"\n",
              "            title=\"Suggest charts\"\n",
              "            style=\"display:none;\">\n",
              "\n",
              "<svg xmlns=\"http://www.w3.org/2000/svg\" height=\"24px\"viewBox=\"0 0 24 24\"\n",
              "     width=\"24px\">\n",
              "    <g>\n",
              "        <path d=\"M19 3H5c-1.1 0-2 .9-2 2v14c0 1.1.9 2 2 2h14c1.1 0 2-.9 2-2V5c0-1.1-.9-2-2-2zM9 17H7v-7h2v7zm4 0h-2V7h2v10zm4 0h-2v-4h2v4z\"/>\n",
              "    </g>\n",
              "</svg>\n",
              "  </button>\n",
              "\n",
              "<style>\n",
              "  .colab-df-quickchart {\n",
              "      --bg-color: #E8F0FE;\n",
              "      --fill-color: #1967D2;\n",
              "      --hover-bg-color: #E2EBFA;\n",
              "      --hover-fill-color: #174EA6;\n",
              "      --disabled-fill-color: #AAA;\n",
              "      --disabled-bg-color: #DDD;\n",
              "  }\n",
              "\n",
              "  [theme=dark] .colab-df-quickchart {\n",
              "      --bg-color: #3B4455;\n",
              "      --fill-color: #D2E3FC;\n",
              "      --hover-bg-color: #434B5C;\n",
              "      --hover-fill-color: #FFFFFF;\n",
              "      --disabled-bg-color: #3B4455;\n",
              "      --disabled-fill-color: #666;\n",
              "  }\n",
              "\n",
              "  .colab-df-quickchart {\n",
              "    background-color: var(--bg-color);\n",
              "    border: none;\n",
              "    border-radius: 50%;\n",
              "    cursor: pointer;\n",
              "    display: none;\n",
              "    fill: var(--fill-color);\n",
              "    height: 32px;\n",
              "    padding: 0;\n",
              "    width: 32px;\n",
              "  }\n",
              "\n",
              "  .colab-df-quickchart:hover {\n",
              "    background-color: var(--hover-bg-color);\n",
              "    box-shadow: 0 1px 2px rgba(60, 64, 67, 0.3), 0 1px 3px 1px rgba(60, 64, 67, 0.15);\n",
              "    fill: var(--button-hover-fill-color);\n",
              "  }\n",
              "\n",
              "  .colab-df-quickchart-complete:disabled,\n",
              "  .colab-df-quickchart-complete:disabled:hover {\n",
              "    background-color: var(--disabled-bg-color);\n",
              "    fill: var(--disabled-fill-color);\n",
              "    box-shadow: none;\n",
              "  }\n",
              "\n",
              "  .colab-df-spinner {\n",
              "    border: 2px solid var(--fill-color);\n",
              "    border-color: transparent;\n",
              "    border-bottom-color: var(--fill-color);\n",
              "    animation:\n",
              "      spin 1s steps(1) infinite;\n",
              "  }\n",
              "\n",
              "  @keyframes spin {\n",
              "    0% {\n",
              "      border-color: transparent;\n",
              "      border-bottom-color: var(--fill-color);\n",
              "      border-left-color: var(--fill-color);\n",
              "    }\n",
              "    20% {\n",
              "      border-color: transparent;\n",
              "      border-left-color: var(--fill-color);\n",
              "      border-top-color: var(--fill-color);\n",
              "    }\n",
              "    30% {\n",
              "      border-color: transparent;\n",
              "      border-left-color: var(--fill-color);\n",
              "      border-top-color: var(--fill-color);\n",
              "      border-right-color: var(--fill-color);\n",
              "    }\n",
              "    40% {\n",
              "      border-color: transparent;\n",
              "      border-right-color: var(--fill-color);\n",
              "      border-top-color: var(--fill-color);\n",
              "    }\n",
              "    60% {\n",
              "      border-color: transparent;\n",
              "      border-right-color: var(--fill-color);\n",
              "    }\n",
              "    80% {\n",
              "      border-color: transparent;\n",
              "      border-right-color: var(--fill-color);\n",
              "      border-bottom-color: var(--fill-color);\n",
              "    }\n",
              "    90% {\n",
              "      border-color: transparent;\n",
              "      border-bottom-color: var(--fill-color);\n",
              "    }\n",
              "  }\n",
              "</style>\n",
              "\n",
              "  <script>\n",
              "    async function quickchart(key) {\n",
              "      const quickchartButtonEl =\n",
              "        document.querySelector('#' + key + ' button');\n",
              "      quickchartButtonEl.disabled = true;  // To prevent multiple clicks.\n",
              "      quickchartButtonEl.classList.add('colab-df-spinner');\n",
              "      try {\n",
              "        const charts = await google.colab.kernel.invokeFunction(\n",
              "            'suggestCharts', [key], {});\n",
              "      } catch (error) {\n",
              "        console.error('Error during call to suggestCharts:', error);\n",
              "      }\n",
              "      quickchartButtonEl.classList.remove('colab-df-spinner');\n",
              "      quickchartButtonEl.classList.add('colab-df-quickchart-complete');\n",
              "    }\n",
              "    (() => {\n",
              "      let quickchartButtonEl =\n",
              "        document.querySelector('#df-f7cdc479-e5c4-4655-aa0b-136c032d867f button');\n",
              "      quickchartButtonEl.style.display =\n",
              "        google.colab.kernel.accessAllowed ? 'block' : 'none';\n",
              "    })();\n",
              "  </script>\n",
              "</div>\n",
              "\n",
              "    </div>\n",
              "  </div>\n"
            ],
            "application/vnd.google.colaboratory.intrinsic+json": {
              "type": "dataframe",
              "variable_name": "df"
            }
          },
          "metadata": {},
          "execution_count": 16
        }
      ]
    },
    {
      "cell_type": "code",
      "source": [
        "# Convert event_time to datetime\n",
        "df['event_time'] = pd.to_datetime(df['event_time'])\n"
      ],
      "metadata": {
        "id": "aVe0L_u4dyMK"
      },
      "execution_count": 17,
      "outputs": []
    },
    {
      "cell_type": "code",
      "source": [
        "df = df.sort_values(['session_id', 'event_time'])"
      ],
      "metadata": {
        "id": "iaSDP02ad6bt"
      },
      "execution_count": 18,
      "outputs": []
    },
    {
      "cell_type": "code",
      "source": [
        "# Extract metadata if needed (optional)\n",
        "def parse_metadata(meta_str):\n",
        "    try:\n",
        "        if pd.isna(meta_str):\n",
        "            return {}\n",
        "        return ast.literal_eval(meta_str)\n",
        "    except:\n",
        "        return {}"
      ],
      "metadata": {
        "id": "JsoHL6NSeBnS"
      },
      "execution_count": 21,
      "outputs": []
    },
    {
      "cell_type": "code",
      "source": [
        "df['event_metadata'] = df['event_metadata'].apply(parse_metadata)"
      ],
      "metadata": {
        "id": "BLLDLftteXz6"
      },
      "execution_count": 22,
      "outputs": []
    },
    {
      "cell_type": "code",
      "source": [
        "## Step 2: Create Transition Matrix\n",
        "# Initialize a dictionary to count transitions\n",
        "transition_counts = defaultdict(lambda: defaultdict(int))"
      ],
      "metadata": {
        "id": "TpEj6b35e8fY"
      },
      "execution_count": 23,
      "outputs": []
    },
    {
      "cell_type": "code",
      "source": [
        "# Group by session and collect event sequences\n",
        "for session_id, group in df.groupby('session_id'):\n",
        "    events = group['event_name'].tolist()\n",
        "    for i in range(len(events) - 1):\n",
        "        from_state = events[i]\n",
        "        to_state = events[i + 1]\n",
        "        transition_counts[from_state][to_state] += 1"
      ],
      "metadata": {
        "id": "GkHRaIz7fHqk"
      },
      "execution_count": 24,
      "outputs": []
    },
    {
      "cell_type": "code",
      "source": [
        "# Get all unique states\n",
        "states = sorted(df['event_name'].unique())"
      ],
      "metadata": {
        "id": "mauVDxG5gKTu"
      },
      "execution_count": 25,
      "outputs": []
    },
    {
      "cell_type": "code",
      "source": [
        "# Create transition matrix DataFrame\n",
        "transition_matrix = pd.DataFrame(np.zeros((len(states), len(states))),\n",
        "                               index=states, columns=states)\n"
      ],
      "metadata": {
        "id": "c4umwoiWgNel"
      },
      "execution_count": 26,
      "outputs": []
    },
    {
      "cell_type": "code",
      "source": [
        "# Populate the matrix with counts\n",
        "for from_state, to_states in transition_counts.items():\n",
        "    for to_state, count in to_states.items():\n",
        "        transition_matrix.loc[from_state, to_state] = count"
      ],
      "metadata": {
        "id": "SrU1sn_sgTXZ"
      },
      "execution_count": 27,
      "outputs": []
    },
    {
      "cell_type": "code",
      "source": [
        "# Convert counts to probabilities\n",
        "transition_prob = transition_matrix.div(transition_matrix.sum(axis=1), axis=0)\n",
        "transition_prob = transition_prob.fillna(0)  # Replace NaN with 0 for states with no outgoing transitions\n",
        "\n",
        "print(\"Transition Probability Matrix:\")\n",
        "print(transition_prob)\n"
      ],
      "metadata": {
        "colab": {
          "base_uri": "https://localhost:8080/"
        },
        "id": "2ueVkRLggX86",
        "outputId": "ef97e159-7924-4d1a-ccaa-044c75f38979"
      },
      "execution_count": 28,
      "outputs": [
        {
          "output_type": "stream",
          "name": "stdout",
          "text": [
            "Transition Probability Matrix:\n",
            "             ADD_PROMO  ADD_TO_CART   BOOKING     CLICK  HOMEPAGE  \\\n",
            "ADD_PROMO     0.000000     0.044580  0.108224  0.251675  0.125103   \n",
            "ADD_TO_CART   0.049257     0.163060  0.065898  0.220234  0.101473   \n",
            "BOOKING       0.000000     0.000000  0.000000  0.191938  0.330852   \n",
            "CLICK         0.031687     0.090040  0.074038  0.234878  0.131517   \n",
            "HOMEPAGE      0.015813     0.219676  0.039182  0.192308  0.152739   \n",
            "ITEM_DETAIL   0.025532     0.091044  0.071955  0.229124  0.144142   \n",
            "PROMO_PAGE    0.035809     0.088881  0.070275  0.230713  0.142991   \n",
            "SCROLL        0.029464     0.084993  0.070632  0.233205  0.139187   \n",
            "SEARCH        0.029824     0.083667  0.073403  0.235224  0.135168   \n",
            "\n",
            "             ITEM_DETAIL  PROMO_PAGE    SCROLL    SEARCH  \n",
            "ADD_PROMO       0.107723    0.071958  0.169504  0.121233  \n",
            "ADD_TO_CART     0.108894    0.047703  0.140511  0.102969  \n",
            "BOOKING         0.136322    0.059630  0.183742  0.097516  \n",
            "CLICK           0.112636    0.051685  0.158514  0.115004  \n",
            "HOMEPAGE        0.103011    0.045759  0.135932  0.095578  \n",
            "ITEM_DETAIL     0.116270    0.049579  0.158840  0.113513  \n",
            "PROMO_PAGE      0.109846    0.053967  0.159604  0.107914  \n",
            "SCROLL          0.114694    0.051738  0.160482  0.115604  \n",
            "SEARCH          0.114188    0.052498  0.160721  0.115307  \n"
          ]
        }
      ]
    },
    {
      "cell_type": "code",
      "source": [
        "## Step 3: Visualization\n",
        "plt.figure(figsize=(12, 10))\n",
        "sns.heatmap(transition_prob, annot=True, cmap='YlGnBu', fmt='.2f',\n",
        "            cbar_kws={'label': 'Transition Probability'})\n",
        "plt.title('User Navigation Markov Chain Transition Probabilities', pad=20)\n",
        "plt.xlabel('Next State')\n",
        "plt.ylabel('Current State')\n",
        "plt.tight_layout()\n",
        "plt.show()"
      ],
      "metadata": {
        "colab": {
          "base_uri": "https://localhost:8080/",
          "height": 742
        },
        "id": "YyLsRnqPgd4U",
        "outputId": "a5c0e165-9253-420f-cd6d-c0d36e21d125"
      },
      "execution_count": 29,
      "outputs": [
        {
          "output_type": "display_data",
          "data": {
            "text/plain": [
              "<Figure size 1200x1000 with 2 Axes>"
            ],
            "image/png": "[encoded data removed]"
          },
          "metadata": {}
        }
      ]
    },
    {
      "cell_type": "code",
      "source": [
        "\n",
        "# Starting probabilities\n",
        "start_probs = df.groupby('session_id').first()['event_name'].value_counts(normalize=True)\n",
        "print(\"\\nStarting Event Probabilities:\")\n",
        "print(start_probs)\n"
      ],
      "metadata": {
        "colab": {
          "base_uri": "https://localhost:8080/"
        },
        "id": "nEQ3f-Hcgl6r",
        "outputId": "c6a2caed-47ad-4cc5-97cf-db9fe4261d5c"
      },
      "execution_count": 31,
      "outputs": [
        {
          "output_type": "stream",
          "name": "stdout",
          "text": [
            "\n",
            "Starting Event Probabilities:\n",
            "event_name\n",
            "HOMEPAGE    1.0\n",
            "Name: proportion, dtype: float64\n"
          ]
        }
      ]
    },
    {
      "cell_type": "code",
      "source": [
        "# Ending probabilities\n",
        "end_probs = df.groupby('session_id').last()['event_name'].value_counts(normalize=True)\n",
        "print(\"\\nEnding Event Probabilities:\")\n",
        "print(end_probs)"
      ],
      "metadata": {
        "colab": {
          "base_uri": "https://localhost:8080/"
        },
        "id": "oD7mcOSXgqix",
        "outputId": "12b88644-ab40-4618-d55b-85dfa7158925"
      },
      "execution_count": 32,
      "outputs": [
        {
          "output_type": "stream",
          "name": "stdout",
          "text": [
            "\n",
            "Ending Event Probabilities:\n",
            "event_name\n",
            "BOOKING        0.808338\n",
            "HOMEPAGE       0.060701\n",
            "CLICK          0.038391\n",
            "SCROLL         0.036935\n",
            "ITEM_DETAIL    0.025827\n",
            "SEARCH         0.018731\n",
            "PROMO_PAGE     0.010613\n",
            "ADD_TO_CART    0.000465\n",
            "Name: proportion, dtype: float64\n"
          ]
        }
      ]
    },
    {
      "cell_type": "code",
      "source": [
        "# Conversion rate to BOOKING\n",
        "total_sessions = df['session_id'].nunique()\n",
        "booking_sessions = df[df['event_name'] == 'BOOKING']['session_id'].nunique()\n",
        "conversion_rate = booking_sessions / total_sessions\n",
        "print(f\"\\nConversion Rate to Booking: {conversion_rate:.2%}\")"
      ],
      "metadata": {
        "colab": {
          "base_uri": "https://localhost:8080/"
        },
        "id": "Rm5JagBbgvE4",
        "outputId": "17a01c28-63ec-4213-9dcb-82c7c69e1b1c"
      },
      "execution_count": 33,
      "outputs": [
        {
          "output_type": "stream",
          "name": "stdout",
          "text": [
            "\n",
            "Conversion Rate to Booking: 99.36%\n"
          ]
        }
      ]
    },
    {
      "cell_type": "code",
      "source": [
        "## Step 5: Path Analysis\n",
        "def find_common_paths(target_state, max_path_length=5):\n",
        "    \"\"\"Find all paths leading to the target state\"\"\"\n",
        "    paths = defaultdict(int)\n",
        "\n",
        "    for session_id, group in df.groupby('session_id'):\n",
        "        events = group['event_name'].tolist()\n",
        "        if target_state in events:\n",
        "            target_index = events.index(target_state)\n",
        "            path = events[max(0, target_index - max_path_length + 1):target_index + 1]\n",
        "            paths[tuple(path)] += 1\n",
        "\n",
        "    # Sort by frequency\n",
        "    sorted_paths = sorted(paths.items(), key=lambda x: x[1], reverse=True)\n",
        "    return sorted_paths"
      ],
      "metadata": {
        "id": "541FrqQKg0zW"
      },
      "execution_count": 34,
      "outputs": []
    },
    {
      "cell_type": "code",
      "source": [
        "print(\"\\nMost Common Paths to Booking:\")\n",
        "for path, count in find_common_paths('BOOKING')[:5]:  # Top 5 paths\n",
        "    print(f\"{' → '.join(path)} (count: {count})\")"
      ],
      "metadata": {
        "colab": {
          "base_uri": "https://localhost:8080/"
        },
        "id": "NWDaZJeAg4L2",
        "outputId": "fedaedf6-326a-4c45-9540-41f56c1069a1"
      },
      "execution_count": 35,
      "outputs": [
        {
          "output_type": "stream",
          "name": "stdout",
          "text": [
            "\n",
            "Most Common Paths to Booking:\n",
            "HOMEPAGE → ADD_TO_CART → CLICK → BOOKING (count: 872)\n",
            "HOMEPAGE → CLICK → ADD_TO_CART → BOOKING (count: 787)\n",
            "ADD_TO_CART → ADD_TO_CART → ADD_TO_CART → ADD_TO_CART → BOOKING (count: 746)\n",
            "HOMEPAGE → SCROLL → ADD_TO_CART → BOOKING (count: 535)\n",
            "HOMEPAGE → ADD_TO_CART → SCROLL → BOOKING (count: 535)\n"
          ]
        }
      ]
    },
    {
      "cell_type": "code",
      "source": [
        "##  Path Analysis\n",
        "def build_conversion_funnel(start_state, target_state):\n",
        "    \"\"\"Build a conversion funnel from start to target state\"\"\"\n",
        "    funnel = defaultdict(int)\n",
        "    total_from_start = 0\n",
        "\n",
        "    for session_id, group in df.groupby('session_id'):\n",
        "        events = group['event_name'].tolist()\n",
        "        if start_state in events and target_state in events:\n",
        "            start_index = events.index(start_state)\n",
        "            target_index = events.index(target_state)\n",
        "            if start_index < target_index:\n",
        "                total_from_start += 1\n",
        "                path = events[start_index:target_index + 1]\n",
        "                for i in range(len(path)):\n",
        "                    state = path[i]\n",
        "                    funnel[state] += 1\n",
        "\n",
        "    # Calculate conversion rates at each step\n",
        "    if total_from_start > 0:\n",
        "        funnel = {k: v/total_from_start for k, v in funnel.items()}\n",
        "\n",
        "    return funnel\n"
      ],
      "metadata": {
        "id": "6fs7pTBdhEPQ"
      },
      "execution_count": 36,
      "outputs": []
    },
    {
      "cell_type": "code",
      "source": [
        "booking_funnel = build_conversion_funnel('HOMEPAGE', 'BOOKING')\n",
        "print(\"\\nConversion Funnel from HOMEPAGE to BOOKING:\")\n",
        "for state, rate in booking_funnel.items():\n",
        "    print(f\"{state}: {rate:.2%}\")\n"
      ],
      "metadata": {
        "colab": {
          "base_uri": "https://localhost:8080/"
        },
        "id": "cvrGxmnShiJ9",
        "outputId": "2fd548a2-6a76-4300-9341-451bed896ccc"
      },
      "execution_count": 37,
      "outputs": [
        {
          "output_type": "stream",
          "name": "stdout",
          "text": [
            "\n",
            "Conversion Funnel from HOMEPAGE to BOOKING:\n",
            "HOMEPAGE: 250.62%\n",
            "ADD_TO_CART: 185.25%\n",
            "CLICK: 311.54%\n",
            "ITEM_DETAIL: 146.84%\n",
            "SCROLL: 204.33%\n",
            "BOOKING: 100.00%\n",
            "SEARCH: 151.30%\n",
            "ADD_PROMO: 43.51%\n",
            "PROMO_PAGE: 67.41%\n"
          ]
        }
      ]
    },
    {
      "cell_type": "code",
      "source": [
        "# Save transition matrix to CSV\n",
        "transition_prob.to_csv('markov_transition_matrix.csv')\n",
        "\n",
        "# Save key metrics to a text file\n",
        "with open('markov_analysis_results.txt', 'w') as f:\n",
        "    f.write(\"=== Markov Chain Analysis Results ===\\n\\n\")\n",
        "    f.write(\"Transition Probability Matrix:\\n\")\n",
        "    f.write(transition_prob.to_string())\n",
        "    f.write(\"\\n\\nStarting Probabilities:\\n\")\n",
        "    f.write(start_probs.to_string())\n",
        "    f.write(\"\\n\\nEnding Probabilities:\\n\")\n",
        "    f.write(end_probs.to_string())\n",
        "    f.write(f\"\\n\\nConversion Rate to Booking: {conversion_rate:.2%}\")"
      ],
      "metadata": {
        "id": "AB1gNgYGhnsn"
      },
      "execution_count": 40,
      "outputs": []
    }
  ]
}