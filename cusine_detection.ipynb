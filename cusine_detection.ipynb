{
  "nbformat": 4,
  "nbformat_minor": 0,
  "metadata": {
    "colab": {
      "provenance": [],
      "gpuType": "T4",
      "authorship_tag": "ABX9TyPHM99OlredrIVwl6kS5zwK",
      "include_colab_link": true
    },
    "kernelspec": {
      "name": "python3",
      "display_name": "Python 3"
    },
    "language_info": {
      "name": "python"
    },
    "accelerator": "GPU"
  },
  "cells": [
    {
      "cell_type": "markdown",
      "metadata": {
        "id": "view-in-github",
        "colab_type": "text"
      },
      "source": [
        "<a href=\"https://colab.research.google.com/github/Adrita2211/ML_Project/blob/ML_Project_branch/cusine_detection.ipynb\" target=\"_parent\"><img src=\"https://colab.research.google.com/assets/colab-badge.svg\" alt=\"Open In Colab\"/></a>"
      ]
    },
    {
      "cell_type": "code",
      "execution_count": 1,
      "metadata": {
        "id": "gRcs5nTZhZWW"
      },
      "outputs": [],
      "source": [
        "import pandas as pd\n",
        "import numpy as np\n",
        "from tensorflow.keras.preprocessing.text import Tokenizer\n",
        "from tensorflow.keras.preprocessing.sequence import pad_sequences\n",
        "from tensorflow.keras.models import Sequential\n",
        "from tensorflow.keras.layers import Embedding, SimpleRNN, Dense, Dropout\n",
        "from sklearn.preprocessing import LabelEncoder\n",
        "from sklearn.model_selection import train_test_split"
      ]
    },
    {
      "cell_type": "code",
      "source": [
        "df = pd.read_excel('/content/cusine.xlsx')\n",
        "foodName = df['Food'].str.lower().values\n",
        "cusine = df['Type'].values\n",
        "print(df.head())"
      ],
      "metadata": {
        "id": "ZmQ2uvlpi6pJ",
        "outputId": "f8038732-7109-435f-86b5-2d96467e1149",
        "colab": {
          "base_uri": "https://localhost:8080/"
        }
      },
      "execution_count": 15,
      "outputs": [
        {
          "output_type": "stream",
          "name": "stdout",
          "text": [
            "   Restaurant                          Food                         Type\n",
            "0        1001            ANVITHA FOOD COURT     Indian, Biryani, Chinese\n",
            "1        1002               Cafe Coffee Day  Beverages, Snacks, Desserts\n",
            "2        1003                      Dosa Hut                 South Indian\n",
            "3        1004  POP O' Bob - Bubble Tea Cafe    Cafe, Desserts, Beverages\n",
            "4        1005                   Mistii Ghar               Sweets, Snacks\n"
          ]
        }
      ]
    }
  ]
}